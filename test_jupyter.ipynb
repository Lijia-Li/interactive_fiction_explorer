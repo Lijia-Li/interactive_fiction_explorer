{
 "cells": [
  {
   "cell_type": "code",
   "execution_count": null,
   "metadata": {},
   "outputs": [],
   "source": [
    "import logging\n",
    "import time\n",
    "\n",
    "import gensim\n",
    "import nltk.stem\n",
    "import spacy\n",
    "from bokeh.io import output_notebook\n",
    "from bokeh.models import HoverTool, Range1d, LabelSet, Label\n",
    "from bokeh.plotting import figure, output_file, show, ColumnDataSource\n",
    "\n",
    "from ifai import *\n",
    "\n",
    "# logging\n",
    "logging.basicConfig(format='%(asctime)s : %(levelname)s : %(message)s', level=logging.INFO)\n",
    "\n",
    "# loading model\n",
    "model = load_model('models/GoogleNews-vectors-negative300.bin')\n",
    "\n",
    "# set up bokeh\n",
    "output_notebook()"
   ]
  },
  {
   "cell_type": "markdown",
   "metadata": {},
   "source": [
    "## Utility Functions and Sample Tests\n"
   ]
  },
  {
   "cell_type": "markdown",
   "metadata": {},
   "source": [
    "#### get_verbs_for_noun \n",
    "    This function takes in a noun and compute the possible verbs by using word2vec model. The function uses a list of conons to computes a average vector in between noun and verbs. The vector is then used to fetch possible verbs from the model. The words returned by model are then lemmatized, compared to the top 1000 frequently use english verbs and the ones that in both set are saved. The verbs then are unioned with commonly used verbs in interactive fiction. There are currently three possible sets can be returns.\n",
    "    Please use the next cell to run for samples. Note that you can uncomment test lines in the function to inspect different verb sets.\n",
    "    ps: this algorithm is a replication of Fulda.\n",
    "\n",
    "#### get_adjectives_for_noun \n",
    "    This function takes in a noun and compute the possible adjectives by using word2vec model. The process of fetching possible adj are same as that in the get_verbs_for_noun function. The words are then lemmatized and return as a list."
   ]
  },
  {
   "cell_type": "code",
   "execution_count": null,
   "metadata": {},
   "outputs": [],
   "source": [
    "test_nouns = [\"book\", \"sword\", \"horse\", \"key\", \"prison\"]\n",
    "\n",
    "# get_verbs_for_noun tests\n",
    "print(\"-\" * 5, \"get_verbs_for_noun function tests\", \"-\" * 5)\n",
    "for noun in test_nouns:\n",
    "    print(noun, \":\", get_verbs_for_noun(model, noun))\n",
    "print()\n",
    "\n",
    "# get_adjectives_for_noun tests\n",
    "print(\"-\" * 5, \"get_adjectives_for_noun function tests\", \"-\" * 5)\n",
    "for noun in test_nouns:\n",
    "    print(noun, \":\", get_adjectives_for_noun(model, noun))\n",
    "print()"
   ]
  },
  {
   "cell_type": "markdown",
   "metadata": {},
   "source": [
    "### possible_actions\n",
    "    The function take in a sentence and return a list of possible actions. \n",
    "    The algorithm uses Spacy to find nouns in the sentence. It then calls get_verbs_for_noun function to obtain a list of actions. The result first get stored in a dictionary with key being noun and value being possible actions. The function will return a list of possible actions combining keys and values of the dictionary. \n",
    "    Please use the next cell to run for samples. "
   ]
  },
  {
   "cell_type": "code",
   "execution_count": null,
   "metadata": {},
   "outputs": [],
   "source": [
    "# possible_actions tests\n",
    "s0 = \"Soon you’ll be able to send and receive money from friends and family right in Messages.\"\n",
    "s1 = \"This is an open field west of a white house, with a boarded front door. There is a small mailbox here.\"\n",
    "s2 = \"This is a forest, with trees in all directions around you.\"\n",
    "s3 = \"This is a dimly lit forest, with large trees all around.  One particularly large tree with some low branches stands here.\"\n",
    "\n",
    "for sentence in [s0, s1, s2, s3]:\n",
    "    print()\n",
    "    print(sentence)\n",
    "    print(possible_actions(model, sentence))"
   ]
  },
  {
   "cell_type": "markdown",
   "metadata": {},
   "source": [
    "### get_tools_for_verb\n",
    "    This function take in a verb and return a list of tools that can afford the verb. \n",
    "    Please use the following cell to run for samples. "
   ]
  },
  {
   "cell_type": "code",
   "execution_count": null,
   "metadata": {},
   "outputs": [],
   "source": [
    "test_verbs = [\"climb\", \"use\", \"open\", \"lift\", \"kill\", \"murder\", \"drive\", \"ride\", \"cure\", \"type\", \"sing\"]\n",
    "for verb in test_verbs:\n",
    "    print(verb, \":\", get_tools_for_verb(model, verb))"
   ]
  },
  {
   "cell_type": "markdown",
   "metadata": {},
   "source": [
    "### rank_manipulability\n",
    "    This function takes in a list of nouns and return a tupple list ranked by graspability. Those in front of the list are more similar to tree and thus more manipulable. The algorithm rank by their vector's doc product with the \"forest\" - \"tree\" vectors. \n",
    "    "
   ]
  },
  {
   "cell_type": "code",
   "execution_count": null,
   "metadata": {},
   "outputs": [],
   "source": [
    "test_grasp = [\"ocean\", \"cloud\", \"metal\", \"house\", \"wheel\", \"mosquito\", \"factory\", \"apple\", \"wallet\", \"bridge\", \n",
    "              \"hat\", \"troll\", \"flower\", \"box\", \"key\", \"door\", \"bottle\", \"water\", \"bag\"]\n",
    "print(rank_manipulability(model, test_grasp))"
   ]
  },
  {
   "cell_type": "markdown",
   "metadata": {},
   "source": [
    "### Demo\n",
    "    This Demo replicate Fulda's paper. It maps nouns to xy coordinates where x_axis is the vector of [\"forest\" - \"tree\"] and y_axis is the vector of [\"mountain\" - \"pebbel\"]. \n",
    "    Note here interestingly that key is not so graspable! "
   ]
  },
  {
   "cell_type": "code",
   "execution_count": null,
   "metadata": {},
   "outputs": [],
   "source": [
    "# This function takes in a noun and return a pair of coordination. \n",
    "def get_grasp_coordination(model, noun):\n",
    "    x_axis = model.word_vec(\"forest\") - model.word_vec(\"tree\")\n",
    "    y_axis = model.word_vec(\"mountain\") - model.word_vec(\"pebble\")\n",
    "    vec = model.word_vec(noun)\n",
    "    noun_x = np.dot(vec, x_axis)\n",
    "    noun_y = np.dot(vec, y_axis)\n",
    "    return noun_x, noun_y\n",
    "\n",
    "# get coordination for nouns\n",
    "test_grasp = [\"ocean\", \"cloud\", \"metal\", \"house\", \"wheel\", \"mosquito\", \"factory\", \"apple\", \"wallet\", \"bridge\", \n",
    "              \"hat\", \"troll\", \"flower\", \"box\", \"key\", \"door\", \"bottle\", \"water\", \"bag\"]\n",
    "xs = []\n",
    "ys = []\n",
    "for noun in test_grasp:\n",
    "    x_co, y_co = get_grasp_coordination(model, noun)\n",
    "    xs.append(x_co)\n",
    "    ys.append(y_co)\n",
    "    print(noun, \":\", xs, \",\", ys)\n",
    "\n",
    "# Graph a scatter plot\n",
    "source = ColumnDataSource(\n",
    "        data=dict(\n",
    "            x = xs,\n",
    "            y = ys,\n",
    "            noun = test_grasp,\n",
    "        )\n",
    "    )\n",
    "\n",
    "hover = HoverTool(\n",
    "        tooltips=[\n",
    "            (\"noun\", \"@noun\"),\n",
    "            (\"(x,y)\", \"(@x, @y)\"),\n",
    "        ]\n",
    "    )\n",
    "\n",
    "p = figure(plot_width=700, plot_height=700, tools=[hover], title=\"Graspability\")\n",
    "p.circle('x', 'y', size = 10, source = source)\n",
    "\n",
    "labels = LabelSet(x = 'x', y = 'y', text = 'noun', level = 'glyph',\n",
    "              x_offset = 5, y_offset = 5, source = source, render_mode = 'canvas')\n",
    "p.add_layout(labels)\n",
    "\n",
    "p.xaxis[0].axis_label = '[Forrest] - [Tree]'\n",
    "p.yaxis[0].axis_label = '[Mountain] - [Pebble]'\n",
    "show(p)"
   ]
  },
  {
   "cell_type": "code",
   "execution_count": null,
   "metadata": {},
   "outputs": [],
   "source": [
    "# ignore main for now\n",
    "\n",
    "def main():\n",
    "    s1 = \"This is an open field west of a white house, with a boarded front door. There is a small mailbox here.\"\n",
    "    s2 = \"This is a forest, with trees in all directions around you.\"\n",
    "    s3 = \"This is a dimly lit forest, with large trees all around.  One particularly large tree with some low branches stands here.\"\n",
    "    sentences = [s1, s2, s3]\n",
    "    \n",
    "    tic = time.time()\n",
    "    for sentence in sentences:\n",
    "        print(possible_actions(model, sentence))\n",
    "    toc = time.time()\n",
    "    print(\"total time spend:\", toc - tic, \"s\")\n",
    "\n",
    "if __name__ == \"__main__\":\n",
    "    main()"
   ]
  }
 ],
 "metadata": {
  "kernelspec": {
   "display_name": "Python 3",
   "language": "python",
   "name": "python3"
  },
  "language_info": {
   "codemirror_mode": {
    "name": "ipython",
    "version": 3
   },
   "file_extension": ".py",
   "mimetype": "text/x-python",
   "name": "python",
   "nbconvert_exporter": "python",
   "pygments_lexer": "ipython3",
   "version": "3.6.4"
  }
 },
 "nbformat": 4,
 "nbformat_minor": 1
}
