{
 "cells": [
  {
   "cell_type": "code",
   "execution_count": 3,
   "metadata": {
    "collapsed": false
   },
   "outputs": [
    {
     "name": "stderr",
     "output_type": "stream",
     "text": [
      "2017-12-02 17:32:56,277 : INFO : loading projection weights from ./model/GoogleNews-vectors-negative300.bin\n",
      "2017-12-02 17:33:56,288 : INFO : loaded (3000000, 300) matrix from ./model/GoogleNews-vectors-negative300.bin\n"
     ]
    }
   ],
   "source": [
    "import logging\n",
    "import gensim\n",
    "# Login\n",
    "logging.basicConfig(format='%(asctime)s : %(levelname)s : %(message)s', level=logging.INFO)\n",
    "\n",
    "# loading model\n",
    "model = gensim.models.KeyedVectors.load_word2vec_format('./model/GoogleNews-vectors-negative300.bin', binary=True)"
   ]
  },
  {
   "cell_type": "code",
   "execution_count": 4,
   "metadata": {
    "collapsed": false
   },
   "outputs": [
    {
     "name": "stderr",
     "output_type": "stream",
     "text": [
      "2017-12-02 17:33:56,335 : INFO : precomputing L2-norms of word weight vectors\n"
     ]
    },
    {
     "name": "stdout",
     "output_type": "stream",
     "text": [
      "[('stucco', 0.41667330265045166), ('mortar_booksellers', 0.41204798221588135), ('tile_flooring', 0.4049796462059021)]\n"
     ]
    }
   ],
   "source": [
    "print(model.most_similar(positive=['forest', 'brick'], negative=['tree'], topn=3))"
   ]
  },
  {
   "cell_type": "code",
   "execution_count": 5,
   "metadata": {
    "collapsed": false
   },
   "outputs": [
    {
     "name": "stdout",
     "output_type": "stream",
     "text": [
      "her\n",
      "worse\n",
      "were\n"
     ]
    }
   ],
   "source": [
    "more_examples = [\"he his she\", \"big bigger bad\", \"going went being\"]\n",
    "for example in more_examples:\n",
    "    a, b, x = example.split()\n",
    "    predicted = model.most_similar([x, b], [a])[0][0]\n",
    "    print(predicted)"
   ]
  },
  {
   "cell_type": "code",
   "execution_count": 6,
   "metadata": {
    "collapsed": false
   },
   "outputs": [
    {
     "name": "stdout",
     "output_type": "stream",
     "text": [
      "(he is to his) as (she is to her)\n",
      "(big is to bigger) as (bad is to worse)\n",
      "(going is to went) as (being is to were)\n"
     ]
    }
   ],
   "source": [
    "more_examples = [\"he his she\", \"big bigger bad\", \"going went being\"]\n",
    "for example in more_examples:\n",
    "    a, b, x = example.split()\n",
    "    predicted = model.most_similar([x, b], [a])[0][0]\n",
    "    # print(predicted)\n",
    "    print ('({} is to {}) as ({} is to {})'.format(a, b, x, predicted))"
   ]
  },
  {
   "cell_type": "code",
   "execution_count": 34,
   "metadata": {
    "collapsed": false
   },
   "outputs": [
    {
     "name": "stdout",
     "output_type": "stream",
     "text": [
      "sing : song :: [horses] : horse\n",
      "drink : water :: [horses] : horse\n",
      "read : book :: [horses] : horse\n",
      "eat : food :: [horses] : horse\n",
      "wear : coat :: [horses] : horse\n",
      "drive : car :: [horses] : horse\n",
      "ride : horse :: [rides] : horse\n",
      "give : gift :: [horses] : horse\n",
      "attack : enemy :: [horses] : horse\n",
      "say : word :: [horses] : horse\n",
      "open : door :: [horses] : horse\n",
      "climb : tree :: [horses] : horse\n",
      "heal : wound :: [horses] : horse\n",
      "cure : disease :: [racehorse] : horse\n",
      "paint : picture :: [horses] : horse\n",
      "--------------------------------------------\n",
      "canon :: [gallop] : horse)\n",
      "canon :: [ride] : horse)\n",
      "canon :: [horses] : horse)\n",
      "canon :: [overrace] : horse)\n",
      "canon :: [take] : horse)\n",
      "canon :: [viruses_spyware_Trojan] : horse)\n",
      "canon :: [outkick] : horse)\n",
      "canon :: [Trainer_Jinks_Fires] : horse)\n",
      "canon :: [go] : horse)\n",
      "canon :: [Koriner] : horse)\n"
     ]
    }
   ],
   "source": [
    "word_list = [\"sing song\", \"drink water\", \"read book\", \"eat food\", \"wear coat\", \"drive car\", \"ride horse\", \"give gift\", \"attack enemy\", \"say word\", \"open door\", \"climb tree\", \"heal wound\", \"cure disease\", \"paint picture\"]\n",
    "# canons should be a list of pair of \"noun verb\"\n",
    "def more_verb (conons, n2):\n",
    "    m = 0\n",
    "    sigma = 0\n",
    "    for pair in conons:\n",
    "        v1, n1 = pair.split()\n",
    "        sigma += model.word_vec(v1) - model.word_vec(n1)\n",
    "        m += 1\n",
    "        predicted = model.most_similar([n2, v1], [n1])[0][0]\n",
    "        print ('{} : {} :: [{}] : {}'.format(v1, n1, predicted, n2))\n",
    "    a = (1/m)*sigma\n",
    "    predicted = model.most_similar([a, n2], [])\n",
    "    print(\"--------------------------------------------\")\n",
    "    for i in range(10):\n",
    "        print ('canon :: [{}] : {})'.format(predicted[i][0], n2))\n",
    "more_verb(word_list, \"horse\")"
   ]
  },
  {
   "cell_type": "code",
   "execution_count": 16,
   "metadata": {
    "collapsed": false
   },
   "outputs": [
    {
     "name": "stdout",
     "output_type": "stream",
     "text": [
      "\n",
      "predict verb on book\n",
      "[('write', 0.486385703086853), ('read', 0.46074622869491577), ('take', 0.41436272859573364), ('publish', 0.4090305268764496), ('eat', 0.40674889087677), ('Gordon_Korman', 0.4022621214389801), ('devour', 0.39084985852241516), ('books', 0.38471636176109314), ('teach', 0.3764316439628601), ('tome', 0.37393248081207275)]\n",
      "predict adj on book\n",
      "[('books', 0.46271762251853943), ('bestseller', 0.4351135194301605), ('memoir', 0.43337810039520264), ('Great_Deluge', 0.43230074644088745), ('memoirs', 0.4283945560455322), ('eminently_readable', 0.4201478362083435), ('Reading_Lolita', 0.4165016710758209), ('paperback', 0.4161180853843689), ('Jenny_Diski', 0.412182092666626), ('hardbound_edition', 0.40317094326019287)]\n",
      "\n",
      "predict verb on day\n",
      "[('take', 0.42790526151657104), ('go', 0.4151778221130371), ('week', 0.4002237617969513), ('eat', 0.3987203538417816), ('wear', 0.397201806306839), ('lift_weights', 0.3869890868663788), ('ride_stationary_bike', 0.38589006662368774), ('morning_TheJournal.ie_brings', 0.3851732015609741), ('miss', 0.38477861881256104), ('relax', 0.3830438256263733)]\n",
      "predict adj on day\n",
      "[('bright', 0.4234802722930908), ('days', 0.38185250759124756), ('dreary', 0.3782644271850586), ('dry', 0.37397634983062744), ('dark', 0.3715708255767822), ('mild', 0.36097171902656555), ('gloomy', 0.3589169979095459), ('gray', 0.352422297000885), ('cloudy', 0.3518714904785156), ('sunny', 0.34207311272621155)]\n",
      "\n",
      "predict verb on love\n",
      "[('adore', 0.5517649054527283), ('enjoy', 0.5034534931182861), ('cherish', 0.49044713377952576), ('despise', 0.47901347279548645), ('loved', 0.46845656633377075), ('loves', 0.4619172215461731), ('critisize', 0.45148664712905884), ('appreciate', 0.4504649043083191), ('admire', 0.4498775601387024), ('eat', 0.44955557584762573)]\n",
      "predict adj on love\n",
      "[('fond', 0.45601218938827515), ('bright', 0.45278337597846985), ('adore', 0.43891000747680664), ('passionate', 0.4248202443122864), ('passion', 0.42169517278671265), ('loves', 0.421046644449234), ('sweet', 0.4196425676345825), ('fondness', 0.41607028245925903), ('loving', 0.41322842240333557), ('wonderful', 0.4123472273349762)]\n"
     ]
    }
   ],
   "source": [
    "def predict_words (conons, word, word_position):\n",
    "    m = 0\n",
    "    sigma = 0\n",
    "    for pair in conons:\n",
    "        w1, w2 = pair.split()\n",
    "        sigma += model.word_vec(w1) - model.word_vec(w2)\n",
    "        m += 1\n",
    "    a = (1/m)*sigma\n",
    "    if word_position == 0:\n",
    "        predicted = model.most_similar([word], [a], topn = 10)\n",
    "        return predicted\n",
    "    elif word_position == 1:\n",
    "        predicted = model.most_similar([a, word], [], topn = 10)\n",
    "        return predicted\n",
    "    else:\n",
    "        print(\"please put in correct cannon position\")\n",
    "        \n",
    "predict_words(n_adj, \"pen\", 0)\n",
    "\n",
    "\n",
    "# run for a test \n",
    "def main():\n",
    "    n_adj = [\"knife sharp\", \"light bright\", \"ice cold\", \"fire burning\", \"desert dry\", \"sky blue\", \"night dark\", \"rope long\"]\n",
    "    verb_n = [\"sing song\", \"drink water\", \"read book\", \"eat food\", \"wear coat\", \"drive car\", \"ride horse\", \"give gift\",\n",
    "                 \"attack enemy\", \"say word\", \"open door\", \"climb tree\", \"heal wound\", \"cure disease\", \"paint picture\"]\n",
    "#     demo_more_verb(word_list, \"book\")\n",
    "    list = [\"book\", \"day\", \"love\"]\n",
    "    for word in list:\n",
    "        print(\"\")\n",
    "        print(\"predict verb on\", word)\n",
    "        print(predict_words(verb_n, word , 1))\n",
    "        print(\"predict adj on\", word)\n",
    "        print(predict_words(n_adj, word , 0))\n",
    "if __name__ == \"__main__\": main()"
   ]
  },
  {
   "cell_type": "code",
   "execution_count": 36,
   "metadata": {
    "collapsed": false,
    "scrolled": true
   },
   "outputs": [
    {
     "name": "stdout",
     "output_type": "stream",
     "text": [
      "--- Soon you’ll be able to send and receive money from friends and family right in Messages. ---\n",
      "friends : [('socialize', 0.48138174414634705), ('buddies', 0.4502038061618805), ('enjoy', 0.4474574327468872), ('girlfriends', 0.43792399764060974), ('hang', 0.437337726354599), ('befriend', 0.4312940239906311), ('eat', 0.4285794794559479), ('sing_karaoke', 0.42660951614379883), ('relax', 0.42622271180152893), ('speak_unpleasant_truths', 0.42595842480659485)]\n",
      "family : [('grieve', 0.42577826976776123), ('eat', 0.41429322957992554), ('remain_sexually_abstinent', 0.4003693163394928), ('friends', 0.3989845812320709), ('stay', 0.3970945477485657), ('recuperate', 0.3956299424171448), ('relax', 0.39187291264533997), ('enjoy', 0.39164507389068604), ('families', 0.3901360034942627), ('socialize', 0.3831459581851959)]\n",
      "Messages : [('Telephone_messages', 0.4744691252708435), ('Costoyas', 0.3635384738445282), ('respond', 0.3627692759037018), ('speak', 0.3591277599334717), ('Joseph_Farzam', 0.3534116744995117), ('Libellous', 0.3413289785385132), ('lawyer_Patrick_Peranteau', 0.3401855230331421), ('rotate', 0.3388773202896118), ('messages', 0.3364337086677551), ('publicist_Rachael_Vizcarra', 0.3353889286518097)]\n",
      "money : [('go', 0.48515743017196655), ('spend', 0.446334570646286), ('buy', 0.4436514377593994), ('recoup', 0.4397667646408081), ('pay', 0.43813028931617737), ('fundraise', 0.4331221580505371), ('raise', 0.4300383925437927), ('do', 0.42975014448165894), ('subsidize', 0.42587846517562866), ('invest', 0.4249323904514313)]\n",
      "right : [('do', 0.4982602894306183), ('go', 0.48935920000076294), ('take', 0.4826565384864807), ('critisize', 0.4421450197696686), ('toplay', 0.434093713760376), ('sit', 0.42927366495132446), ('give', 0.4243018627166748), ('reaggravate', 0.4126036763191223), ('get', 0.410848468542099), ('marry_whomever', 0.39630571007728577)]\n",
      "you : [('do', 0.6029837131500244), ('go', 0.5360193252563477), ('You', 0.509726881980896), ('get', 0.47947922348976135), ('know', 0.4728638231754303), ('critisize', 0.47031980752944946), ('I', 0.46900781989097595), ('maybe', 0.4668853282928467), ('youwant', 0.4668639302253723), ('forget', 0.46411943435668945)]\n",
      "--- This is an open field west of a white house, with a boarded front door. There is a small mailbox here. ---\n",
      "a small mailbox : [('mailboxes', 0.45217323303222656), ('gladly_oblige', 0.40166881680488586), ('mail', 0.37504538893699646), ('write', 0.3735044598579407), ('take', 0.37172505259513855), ('mow', 0.36438554525375366), ('get', 0.36060479283332825), ('spew', 0.3600424826145172), ('lift_weights', 0.3588847517967224), ('do', 0.35652291774749756)]\n",
      "a boarded front door : [('doors', 0.44555985927581787), ('go', 0.4339003264904022), ('sit', 0.41391968727111816), ('take', 0.4064720869064331), ('push', 0.40024012327194214), ('leave', 0.3946162462234497), ('get', 0.3944132328033447), ('manhandle', 0.38290074467658997), ('give', 0.37635287642478943), ('eat', 0.3755449950695038)]\n",
      "a white house : [('eat', 0.42553579807281494), ('go', 0.41533321142196655), ('babysit', 0.41018974781036377), ('take', 0.40748634934425354), ('peform', 0.40401691198349), ('stay', 0.3973085880279541), ('sit', 0.384041965007782), ('houses', 0.38301295042037964), ('relax', 0.373844712972641), ('gladly_oblige', 0.3734249472618103)]\n",
      "--- This is a forest, with trees in all directions around you. ---\n",
      "a forest : [('forests', 0.4744701683521271), ('deforest', 0.42154553532600403), ('degazette', 0.39350104331970215), ('Arapaho_Roosevelt', 0.39088529348373413), ('scrubland_parched', 0.3895285725593567), ('forested', 0.38426604866981506), ('take', 0.38254785537719727), ('reforest', 0.3778391480445862), ('Uinta_Wasatch_Cache', 0.37200188636779785), ('timber_harvesting', 0.3718622028827667)]\n",
      "you : [('do', 0.6029837131500244), ('go', 0.5360193252563477), ('You', 0.509726881980896), ('get', 0.47947922348976135), ('know', 0.4728638231754303), ('critisize', 0.47031980752944946), ('I', 0.46900781989097595), ('maybe', 0.4668853282928467), ('youwant', 0.4668639302253723), ('forget', 0.46411943435668945)]\n",
      "trees : [('mow', 0.45221635699272156), ('replant', 0.4464426636695862), ('take', 0.4276764690876007), ('oak_trees', 0.42269736528396606), ('eat', 0.41340190172195435), ('willow_oaks', 0.41076791286468506), ('prune_shrubs', 0.4004863500595093), ('resprout', 0.39937740564346313), ('maples_birches', 0.39559680223464966), ('laurel_oaks', 0.39440396428108215)]\n",
      "all directions : [('listen', 0.38463103771209717), ('eat', 0.3836182653903961), ('take', 0.3832186162471771), ('follow', 0.3771710991859436), ('go', 0.36961185932159424), ('pull', 0.3653714060783386), ('orient_themselves', 0.3646748661994934), ('explore', 0.36286377906799316), ('rotate', 0.36210188269615173), ('navigate', 0.3538210690021515)]\n",
      "--- This is a dimly lit forest, with large trees all around.  One particularly large tree with some low branches stands here. ---\n",
      "large trees : [('mow', 0.45221635699272156), ('replant', 0.4464426636695862), ('take', 0.4276764690876007), ('oak_trees', 0.42269736528396606), ('eat', 0.41340190172195435), ('willow_oaks', 0.41076791286468506), ('prune_shrubs', 0.4004863500595093), ('resprout', 0.39937740564346313), ('maples_birches', 0.39559680223464966), ('laurel_oaks', 0.39440396428108215)]\n",
      "a dimly lit forest : [('forests', 0.4744701683521271), ('deforest', 0.42154553532600403), ('degazette', 0.39350104331970215), ('Arapaho_Roosevelt', 0.39088529348373413), ('scrubland_parched', 0.3895285725593567), ('forested', 0.38426604866981506), ('take', 0.38254785537719727), ('reforest', 0.3778391480445862), ('Uinta_Wasatch_Cache', 0.37200188636779785), ('timber_harvesting', 0.3718622028827667)]\n",
      "some low branches : [('branch', 0.39875513315200806), ('buckets_tin_cans', 0.3856649696826935), ('Branches', 0.3854368329048157), ('braches', 0.37166351079940796), ('operate', 0.3707043528556824), ('grow', 0.36642104387283325), ('take', 0.36501622200012207), ('absorb', 0.3634357452392578), ('migrate', 0.3588891923427582), ('wear_sleeveless_tops', 0.35645437240600586)]\n",
      "One particularly large tree : [('take', 0.4411330819129944), ('eat', 0.43079984188079834), ('trees', 0.4181244969367981), ('mow', 0.41671323776245117), ('give', 0.40639257431030273), ('carve_pumpkins', 0.3992850184440613), ('get', 0.388954222202301), ('wear', 0.38656631112098694), ('replant', 0.3862130641937256), ('decorate', 0.3862098455429077)]\n",
      "total time spend: 51.93384599685669 s\n"
     ]
    }
   ],
   "source": [
    "import spacy\n",
    "import time\n",
    "def pre_possible_action(sentence):\n",
    "    nlp = spacy.load('en')\n",
    "    doc = nlp(sentence)\n",
    "    canons = [\"sing song\", \"drink water\", \"read book\", \"eat food\", \"wear coat\", \"drive car\", \"ride horse\", \"give gift\", \"attack enemy\", \"say word\", \"open door\", \"climb tree\", \"heal wound\", \"cure disease\", \"paint picture\"]\n",
    "    dictionary = {}\n",
    "    for chunk in doc.noun_chunks:\n",
    "        word = chunk.root.text\n",
    "        if word not in dictionary:\n",
    "            dictionary[word] = predict_words(canons, word, 1)\n",
    "    return dictionary\n",
    "\n",
    "def pretty_print_dict(dictionary):\n",
    "    print(\"\")\n",
    "    for key, val in dictionary.items():\n",
    "        print (key, \":\", val)\n",
    "\n",
    "def main():\n",
    "    tic = time.time()\n",
    "    s = \"Soon you’ll be able to send and receive money from friends and family right in Messages.\"\n",
    "    s1 = \"This is an open field west of a white house, with a boarded front door. There is a small mailbox here.\"\n",
    "    s2 = \"This is a forest, with trees in all directions around you.\"\n",
    "    s3 = \"This is a dimly lit forest, with large trees all around.  One particularly large tree with some low branches stands here.\"\n",
    "    sentences = [s, s1, s2, s3]\n",
    "    for sentence in sentences:\n",
    "        print(\"-\" * 3, sentence, \"-\" * 3)\n",
    "        pretty_print_dict(pre_possible_action_1(sentence))\n",
    "    toc = time.time()\n",
    "    print(\"total time spend:\", toc - tic, \"s\")\n",
    "    \n",
    "if __name__ == \"__main__\": main()"
   ]
  },
  {
   "cell_type": "code",
   "execution_count": null,
   "metadata": {
    "collapsed": true
   },
   "outputs": [],
   "source": [
    ""
   ]
  }
 ],
 "metadata": {
  "kernelspec": {
   "display_name": "Python 3",
   "language": "python",
   "name": "python3"
  },
  "language_info": {
   "codemirror_mode": {
    "name": "ipython",
    "version": 3.0
   },
   "file_extension": ".py",
   "mimetype": "text/x-python",
   "name": "python",
   "nbconvert_exporter": "python",
   "pygments_lexer": "ipython3",
   "version": "3.5.2"
  }
 },
 "nbformat": 4,
 "nbformat_minor": 0
}